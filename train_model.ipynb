{
 "cells": [
  {
   "cell_type": "markdown",
   "id": "e6c2b5cd",
   "metadata": {},
   "source": [
    "# Model Creation Station"
   ]
  },
  {
   "cell_type": "code",
   "execution_count": 6,
   "id": "d9d4148a",
   "metadata": {},
   "outputs": [],
   "source": [
    "import numpy as np\n",
    "import matplotlib.pyplot as plt\n",
    "import os\n",
    "import cv2\n",
    "import pandas as pd\n",
    "import random\n",
    "\n",
    "DATASET_DIR = 'training'\n",
    "DATA_KEY_PATH = 'training/data_key.csv'\n",
    "LABELS_PATH = 'mouth_shape_categories.txt'\n",
    "IMG_SIZE = (100,100)\n",
    "DATASET_NP_FILE = 'training/dataset.npz'\n",
    "\n",
    "MODEL_FILE = 'model/default.h5'\n",
    "TEST_DIR = 'training/selected'"
   ]
  },
  {
   "cell_type": "markdown",
   "id": "a9e3ece5",
   "metadata": {},
   "source": [
    "## Setup Dataset from CSV\n",
    "\n",
    "You can skip to \"Load Dataset from NPZ file\" if you've already run this once"
   ]
  },
  {
   "cell_type": "code",
   "execution_count": 2,
   "id": "88cca02a",
   "metadata": {},
   "outputs": [],
   "source": [
    "# def create_image_dataset(df):\n",
    "#     dataset = []\n",
    "#     for file in df.index.values:\n",
    "# #         img = cv2.imread(file, cv2.IMREAD_GRAYSCALE)\n",
    "# #         img = cv2.resize(img, (2*IMG_SIZE[0], IMG_SIZE[1]))\n",
    "        \n",
    "#         expected = df.loc[file].to_numpy()\n",
    "#         expected_mirror = np.append(expected[:-1], [1.0 - expected[-1]])\n",
    "        \n",
    "# #         dataset.append([img[:,:IMG_SIZE[0]], expected])\n",
    "# #         dataset.append([img[:,IMG_SIZE[0]:], expected_mirror])\n",
    "#         im1, im2 = process_single_img(file)\n",
    "\n",
    "#         dataset.append([im1, expected])\n",
    "#         dataset.append([im2, expected_mirror])\n",
    "#     return dataset\n",
    "\n",
    "def create_image_dataset_generator(df):\n",
    "    count = 1\n",
    "    \n",
    "    files = df.index.values.copy()\n",
    "    random.shuffle(files)\n",
    "    for file in files:\n",
    "        print(f'{count}', end='\\r')\n",
    "        expected_right = df.loc[file].to_numpy()\n",
    "        expected_left = np.append(expected_right[:-1], [1.0 - expected_right[-1]])\n",
    "\n",
    "        im1, im2 = process_single_img(file)\n",
    "\n",
    "#         print(im1.shape, im2.shape)\n",
    "        \n",
    "        yield [im1, expected_left]\n",
    "        yield [im2, expected_right]\n",
    "        count += 1\n",
    "\n",
    "def process_single_img(file):\n",
    "    img = cv2.imread(file, cv2.IMREAD_GRAYSCALE)\n",
    "    img = cv2.resize(img, (2*IMG_SIZE[0], IMG_SIZE[1]))\n",
    "    \n",
    "    return (img[:,:IMG_SIZE[0]], img[:,IMG_SIZE[0]:][:,::-1])"
   ]
  },
  {
   "cell_type": "code",
   "execution_count": 3,
   "id": "6dab31bb",
   "metadata": {
    "scrolled": true
   },
   "outputs": [
    {
     "data": {
      "text/html": [
       "<div>\n",
       "<style scoped>\n",
       "    .dataframe tbody tr th:only-of-type {\n",
       "        vertical-align: middle;\n",
       "    }\n",
       "\n",
       "    .dataframe tbody tr th {\n",
       "        vertical-align: top;\n",
       "    }\n",
       "\n",
       "    .dataframe thead th {\n",
       "        text-align: right;\n",
       "    }\n",
       "</style>\n",
       "<table border=\"1\" class=\"dataframe\">\n",
       "  <thead>\n",
       "    <tr style=\"text-align: right;\">\n",
       "      <th></th>\n",
       "      <th>AEI</th>\n",
       "      <th>L</th>\n",
       "      <th>O</th>\n",
       "      <th>CDGKNSTXYZ</th>\n",
       "      <th>FV</th>\n",
       "      <th>QW</th>\n",
       "      <th>BMP</th>\n",
       "      <th>U</th>\n",
       "      <th>E</th>\n",
       "      <th>R</th>\n",
       "      <th>TH</th>\n",
       "      <th>CH J SH</th>\n",
       "      <th>Smile</th>\n",
       "      <th>Frown</th>\n",
       "      <th>Tongue Out</th>\n",
       "      <th>Bottom Lip Horizontal Offset</th>\n",
       "    </tr>\n",
       "    <tr>\n",
       "      <th>filename</th>\n",
       "      <th></th>\n",
       "      <th></th>\n",
       "      <th></th>\n",
       "      <th></th>\n",
       "      <th></th>\n",
       "      <th></th>\n",
       "      <th></th>\n",
       "      <th></th>\n",
       "      <th></th>\n",
       "      <th></th>\n",
       "      <th></th>\n",
       "      <th></th>\n",
       "      <th></th>\n",
       "      <th></th>\n",
       "      <th></th>\n",
       "      <th></th>\n",
       "    </tr>\n",
       "  </thead>\n",
       "  <tbody>\n",
       "    <tr>\n",
       "      <th>training/no yawn/2760.jpg</th>\n",
       "      <td>0.0</td>\n",
       "      <td>0.0</td>\n",
       "      <td>0.0</td>\n",
       "      <td>0.0</td>\n",
       "      <td>0.0</td>\n",
       "      <td>0.0</td>\n",
       "      <td>1.0</td>\n",
       "      <td>0.0</td>\n",
       "      <td>0.0</td>\n",
       "      <td>0.0</td>\n",
       "      <td>0.0</td>\n",
       "      <td>0.0</td>\n",
       "      <td>0.612500</td>\n",
       "      <td>0.0</td>\n",
       "      <td>0.0</td>\n",
       "      <td>0.5000</td>\n",
       "    </tr>\n",
       "    <tr>\n",
       "      <th>training/no yawn/2761.jpg</th>\n",
       "      <td>0.0</td>\n",
       "      <td>0.0</td>\n",
       "      <td>0.0</td>\n",
       "      <td>0.0</td>\n",
       "      <td>0.0</td>\n",
       "      <td>0.0</td>\n",
       "      <td>1.0</td>\n",
       "      <td>0.0</td>\n",
       "      <td>0.0</td>\n",
       "      <td>0.0</td>\n",
       "      <td>0.0</td>\n",
       "      <td>0.0</td>\n",
       "      <td>0.184375</td>\n",
       "      <td>0.0</td>\n",
       "      <td>0.0</td>\n",
       "      <td>0.5000</td>\n",
       "    </tr>\n",
       "    <tr>\n",
       "      <th>training/no yawn/2762.jpg</th>\n",
       "      <td>0.0</td>\n",
       "      <td>0.0</td>\n",
       "      <td>0.0</td>\n",
       "      <td>0.0</td>\n",
       "      <td>0.0</td>\n",
       "      <td>0.0</td>\n",
       "      <td>1.0</td>\n",
       "      <td>0.0</td>\n",
       "      <td>0.0</td>\n",
       "      <td>0.0</td>\n",
       "      <td>0.0</td>\n",
       "      <td>0.0</td>\n",
       "      <td>0.746875</td>\n",
       "      <td>0.0</td>\n",
       "      <td>0.0</td>\n",
       "      <td>0.5000</td>\n",
       "    </tr>\n",
       "    <tr>\n",
       "      <th>training/no yawn/2763.jpg</th>\n",
       "      <td>0.0</td>\n",
       "      <td>0.0</td>\n",
       "      <td>0.0</td>\n",
       "      <td>0.0</td>\n",
       "      <td>0.0</td>\n",
       "      <td>0.0</td>\n",
       "      <td>1.0</td>\n",
       "      <td>0.0</td>\n",
       "      <td>0.0</td>\n",
       "      <td>0.0</td>\n",
       "      <td>0.0</td>\n",
       "      <td>0.0</td>\n",
       "      <td>0.096875</td>\n",
       "      <td>0.0</td>\n",
       "      <td>0.0</td>\n",
       "      <td>0.5000</td>\n",
       "    </tr>\n",
       "    <tr>\n",
       "      <th>training/no yawn/2764.jpg</th>\n",
       "      <td>0.0</td>\n",
       "      <td>0.0</td>\n",
       "      <td>0.0</td>\n",
       "      <td>0.0</td>\n",
       "      <td>0.0</td>\n",
       "      <td>0.0</td>\n",
       "      <td>1.0</td>\n",
       "      <td>0.0</td>\n",
       "      <td>0.0</td>\n",
       "      <td>0.0</td>\n",
       "      <td>0.0</td>\n",
       "      <td>0.0</td>\n",
       "      <td>0.000000</td>\n",
       "      <td>0.0</td>\n",
       "      <td>0.0</td>\n",
       "      <td>0.4375</td>\n",
       "    </tr>\n",
       "    <tr>\n",
       "      <th>...</th>\n",
       "      <td>...</td>\n",
       "      <td>...</td>\n",
       "      <td>...</td>\n",
       "      <td>...</td>\n",
       "      <td>...</td>\n",
       "      <td>...</td>\n",
       "      <td>...</td>\n",
       "      <td>...</td>\n",
       "      <td>...</td>\n",
       "      <td>...</td>\n",
       "      <td>...</td>\n",
       "      <td>...</td>\n",
       "      <td>...</td>\n",
       "      <td>...</td>\n",
       "      <td>...</td>\n",
       "      <td>...</td>\n",
       "    </tr>\n",
       "    <tr>\n",
       "      <th>training/BottomL_ChJSh/01436.png</th>\n",
       "      <td>0.0</td>\n",
       "      <td>0.0</td>\n",
       "      <td>0.0</td>\n",
       "      <td>0.0</td>\n",
       "      <td>0.0</td>\n",
       "      <td>0.0</td>\n",
       "      <td>0.0</td>\n",
       "      <td>0.0</td>\n",
       "      <td>0.0</td>\n",
       "      <td>0.0</td>\n",
       "      <td>0.0</td>\n",
       "      <td>1.0</td>\n",
       "      <td>0.000000</td>\n",
       "      <td>0.0</td>\n",
       "      <td>0.0</td>\n",
       "      <td>0.0000</td>\n",
       "    </tr>\n",
       "    <tr>\n",
       "      <th>training/BottomL_ChJSh/01440.png</th>\n",
       "      <td>0.0</td>\n",
       "      <td>0.0</td>\n",
       "      <td>0.0</td>\n",
       "      <td>0.0</td>\n",
       "      <td>0.0</td>\n",
       "      <td>0.0</td>\n",
       "      <td>0.0</td>\n",
       "      <td>0.0</td>\n",
       "      <td>0.0</td>\n",
       "      <td>0.0</td>\n",
       "      <td>0.0</td>\n",
       "      <td>1.0</td>\n",
       "      <td>0.000000</td>\n",
       "      <td>0.0</td>\n",
       "      <td>0.0</td>\n",
       "      <td>0.0000</td>\n",
       "    </tr>\n",
       "    <tr>\n",
       "      <th>training/BottomL_ChJSh/01444.png</th>\n",
       "      <td>0.0</td>\n",
       "      <td>0.0</td>\n",
       "      <td>0.0</td>\n",
       "      <td>0.0</td>\n",
       "      <td>0.0</td>\n",
       "      <td>0.0</td>\n",
       "      <td>0.0</td>\n",
       "      <td>0.0</td>\n",
       "      <td>0.0</td>\n",
       "      <td>0.0</td>\n",
       "      <td>0.0</td>\n",
       "      <td>1.0</td>\n",
       "      <td>0.000000</td>\n",
       "      <td>0.0</td>\n",
       "      <td>0.0</td>\n",
       "      <td>0.0000</td>\n",
       "    </tr>\n",
       "    <tr>\n",
       "      <th>training/BottomL_ChJSh/01445.png</th>\n",
       "      <td>0.0</td>\n",
       "      <td>0.0</td>\n",
       "      <td>0.0</td>\n",
       "      <td>0.0</td>\n",
       "      <td>0.0</td>\n",
       "      <td>0.0</td>\n",
       "      <td>0.0</td>\n",
       "      <td>0.0</td>\n",
       "      <td>0.0</td>\n",
       "      <td>0.0</td>\n",
       "      <td>0.0</td>\n",
       "      <td>1.0</td>\n",
       "      <td>0.000000</td>\n",
       "      <td>0.0</td>\n",
       "      <td>0.0</td>\n",
       "      <td>0.0000</td>\n",
       "    </tr>\n",
       "    <tr>\n",
       "      <th>training/BottomL_ChJSh/01446.png</th>\n",
       "      <td>0.0</td>\n",
       "      <td>0.0</td>\n",
       "      <td>0.0</td>\n",
       "      <td>0.0</td>\n",
       "      <td>0.0</td>\n",
       "      <td>0.0</td>\n",
       "      <td>0.0</td>\n",
       "      <td>0.0</td>\n",
       "      <td>0.0</td>\n",
       "      <td>0.0</td>\n",
       "      <td>0.0</td>\n",
       "      <td>1.0</td>\n",
       "      <td>0.000000</td>\n",
       "      <td>0.0</td>\n",
       "      <td>0.0</td>\n",
       "      <td>0.0000</td>\n",
       "    </tr>\n",
       "  </tbody>\n",
       "</table>\n",
       "<p>36245 rows × 16 columns</p>\n",
       "</div>"
      ],
      "text/plain": [
       "                                  AEI    L    O  CDGKNSTXYZ   FV   QW  BMP  \\\n",
       "filename                                                                     \n",
       "training/no yawn/2760.jpg         0.0  0.0  0.0         0.0  0.0  0.0  1.0   \n",
       "training/no yawn/2761.jpg         0.0  0.0  0.0         0.0  0.0  0.0  1.0   \n",
       "training/no yawn/2762.jpg         0.0  0.0  0.0         0.0  0.0  0.0  1.0   \n",
       "training/no yawn/2763.jpg         0.0  0.0  0.0         0.0  0.0  0.0  1.0   \n",
       "training/no yawn/2764.jpg         0.0  0.0  0.0         0.0  0.0  0.0  1.0   \n",
       "...                               ...  ...  ...         ...  ...  ...  ...   \n",
       "training/BottomL_ChJSh/01436.png  0.0  0.0  0.0         0.0  0.0  0.0  0.0   \n",
       "training/BottomL_ChJSh/01440.png  0.0  0.0  0.0         0.0  0.0  0.0  0.0   \n",
       "training/BottomL_ChJSh/01444.png  0.0  0.0  0.0         0.0  0.0  0.0  0.0   \n",
       "training/BottomL_ChJSh/01445.png  0.0  0.0  0.0         0.0  0.0  0.0  0.0   \n",
       "training/BottomL_ChJSh/01446.png  0.0  0.0  0.0         0.0  0.0  0.0  0.0   \n",
       "\n",
       "                                    U    E    R   TH  CH J SH     Smile  \\\n",
       "filename                                                                  \n",
       "training/no yawn/2760.jpg         0.0  0.0  0.0  0.0      0.0  0.612500   \n",
       "training/no yawn/2761.jpg         0.0  0.0  0.0  0.0      0.0  0.184375   \n",
       "training/no yawn/2762.jpg         0.0  0.0  0.0  0.0      0.0  0.746875   \n",
       "training/no yawn/2763.jpg         0.0  0.0  0.0  0.0      0.0  0.096875   \n",
       "training/no yawn/2764.jpg         0.0  0.0  0.0  0.0      0.0  0.000000   \n",
       "...                               ...  ...  ...  ...      ...       ...   \n",
       "training/BottomL_ChJSh/01436.png  0.0  0.0  0.0  0.0      1.0  0.000000   \n",
       "training/BottomL_ChJSh/01440.png  0.0  0.0  0.0  0.0      1.0  0.000000   \n",
       "training/BottomL_ChJSh/01444.png  0.0  0.0  0.0  0.0      1.0  0.000000   \n",
       "training/BottomL_ChJSh/01445.png  0.0  0.0  0.0  0.0      1.0  0.000000   \n",
       "training/BottomL_ChJSh/01446.png  0.0  0.0  0.0  0.0      1.0  0.000000   \n",
       "\n",
       "                                  Frown  Tongue Out  \\\n",
       "filename                                              \n",
       "training/no yawn/2760.jpg           0.0         0.0   \n",
       "training/no yawn/2761.jpg           0.0         0.0   \n",
       "training/no yawn/2762.jpg           0.0         0.0   \n",
       "training/no yawn/2763.jpg           0.0         0.0   \n",
       "training/no yawn/2764.jpg           0.0         0.0   \n",
       "...                                 ...         ...   \n",
       "training/BottomL_ChJSh/01436.png    0.0         0.0   \n",
       "training/BottomL_ChJSh/01440.png    0.0         0.0   \n",
       "training/BottomL_ChJSh/01444.png    0.0         0.0   \n",
       "training/BottomL_ChJSh/01445.png    0.0         0.0   \n",
       "training/BottomL_ChJSh/01446.png    0.0         0.0   \n",
       "\n",
       "                                  Bottom Lip Horizontal Offset  \n",
       "filename                                                        \n",
       "training/no yawn/2760.jpg                               0.5000  \n",
       "training/no yawn/2761.jpg                               0.5000  \n",
       "training/no yawn/2762.jpg                               0.5000  \n",
       "training/no yawn/2763.jpg                               0.5000  \n",
       "training/no yawn/2764.jpg                               0.4375  \n",
       "...                                                        ...  \n",
       "training/BottomL_ChJSh/01436.png                        0.0000  \n",
       "training/BottomL_ChJSh/01440.png                        0.0000  \n",
       "training/BottomL_ChJSh/01444.png                        0.0000  \n",
       "training/BottomL_ChJSh/01445.png                        0.0000  \n",
       "training/BottomL_ChJSh/01446.png                        0.0000  \n",
       "\n",
       "[36245 rows x 16 columns]"
      ]
     },
     "execution_count": 3,
     "metadata": {},
     "output_type": "execute_result"
    }
   ],
   "source": [
    "df = pd.read_csv(DATA_KEY_PATH, index_col=0)\n",
    "df = df.set_index(\"filename\")\n",
    "# df = df.loc[(df != 0).any(axis=1)]\n",
    "df"
   ]
  },
  {
   "cell_type": "code",
   "execution_count": 4,
   "id": "4042418c",
   "metadata": {},
   "outputs": [
    {
     "name": "stdout",
     "output_type": "stream",
     "text": [
      "36245\r"
     ]
    }
   ],
   "source": [
    "training_generator = create_image_dataset_generator(df)\n",
    "# training_data = [next(training_generator) for _ in range(1000)]\n",
    "training_data = [*training_generator]"
   ]
  },
  {
   "cell_type": "code",
   "execution_count": 5,
   "id": "9ac2e6ea",
   "metadata": {},
   "outputs": [],
   "source": [
    "# random.shuffle(training_data)"
   ]
  },
  {
   "cell_type": "code",
   "execution_count": 6,
   "id": "b3f0c62a",
   "metadata": {},
   "outputs": [],
   "source": [
    "X = []\n",
    "y = []\n",
    "\n",
    "for features, expected in training_data:\n",
    "    X.append(features)\n",
    "    y.append(expected)\n",
    "\n",
    "X = np.array(X).reshape(-1, *IMG_SIZE, 1)"
   ]
  },
  {
   "cell_type": "code",
   "execution_count": 7,
   "id": "44db53b7",
   "metadata": {},
   "outputs": [],
   "source": [
    "np.savez(DATASET_NP_FILE, X=X, y=y)"
   ]
  },
  {
   "cell_type": "markdown",
   "id": "26b55e93",
   "metadata": {},
   "source": [
    "## Load Dataset from NPZ file"
   ]
  },
  {
   "cell_type": "code",
   "execution_count": 8,
   "id": "13d28b26",
   "metadata": {},
   "outputs": [],
   "source": [
    "X, y = np.load(DATASET_NP_FILE).values()"
   ]
  },
  {
   "cell_type": "code",
   "execution_count": 9,
   "id": "245ed917",
   "metadata": {},
   "outputs": [
    {
     "name": "stdout",
     "output_type": "stream",
     "text": [
      "72490\n",
      "72490\n",
      "[0.  0.  0.  0.  1.  0.  0.  0.  0.  0.  0.  0.  1.  0.  0.  0.5]\n",
      "[0.  0.  0.  0.  1.  0.  0.  0.  0.  0.  0.  0.  1.  0.  0.  0.5]\n",
      "[0.  0.  0.  1.  0.  0.  0.  0.  0.  0.  0.  0.  0.  0.  0.  0.5]\n",
      "[0.  0.  0.  1.  0.  0.  0.  0.  0.  0.  0.  0.  0.  0.  0.  0.5]\n",
      "[0. 0. 0. 0. 0. 0. 0. 1. 0. 0. 0. 0. 0. 0. 0. 1.]\n",
      "[0. 0. 0. 0. 0. 0. 0. 1. 0. 0. 0. 0. 0. 0. 0. 0.]\n",
      "[0.  0.  0.  0.  0.  0.  1.  0.  0.  0.  0.  0.  0.  0.  1.  0.5]\n",
      "[0.  0.  0.  0.  0.  0.  1.  0.  0.  0.  0.  0.  0.  0.  1.  0.5]\n",
      "[1.  0.  0.  0.  0.  0.  0.  0.  0.  0.  0.  0.  0.  0.  1.  0.5]\n",
      "[1.  0.  0.  0.  0.  0.  0.  0.  0.  0.  0.  0.  0.  0.  1.  0.5]\n"
     ]
    },
    {
     "data": {
      "text/plain": [
       "[None, None, None, None, None, None, None, None, None, None]"
      ]
     },
     "execution_count": 9,
     "metadata": {},
     "output_type": "execute_result"
    }
   ],
   "source": [
    "print(len(X))\n",
    "print(len(y))\n",
    "[*map(print, y[:10])]"
   ]
  },
  {
   "cell_type": "code",
   "execution_count": 10,
   "id": "bb415b98",
   "metadata": {},
   "outputs": [
    {
     "data": {
      "image/png": "[encoded data removed]",
      "text/plain": [
       "<Figure size 432x288 with 1 Axes>"
      ]
     },
     "metadata": {
      "needs_background": "light"
     },
     "output_type": "display_data"
    },
    {
     "name": "stdout",
     "output_type": "stream",
     "text": [
      "[0.  1.  0.  0.  0.  0.  0.  0.  0.  0.  0.  0.  0.  0.  0.  0.5]\n"
     ]
    }
   ],
   "source": [
    "index = random.randint(0,len(X))\n",
    "\n",
    "img = X[index].reshape(*IMG_SIZE[::-1])\n",
    "plt.imshow(img, cmap=\"gray\")\n",
    "plt.show()\n",
    "\n",
    "print(y[index])"
   ]
  },
  {
   "cell_type": "markdown",
   "id": "0070d834",
   "metadata": {},
   "source": [
    "## Setup Model"
   ]
  },
  {
   "cell_type": "code",
   "execution_count": 4,
   "id": "36baf07e",
   "metadata": {},
   "outputs": [
    {
     "name": "stderr",
     "output_type": "stream",
     "text": [
      "2022-03-31 20:23:28.758744: I tensorflow/stream_executor/platform/default/dso_loader.cc:49] Successfully opened dynamic library libcudart.so.10.1\n"
     ]
    }
   ],
   "source": [
    "import tensorflow as tf\n",
    "from tensorflow.keras.models import Sequential\n",
    "from tensorflow.keras.layers import Dense, Dropout, Activation, Flatten, Conv2D, MaxPooling2D\n",
    "from tensorflow.keras.layers.experimental.preprocessing import Rescaling"
   ]
  },
  {
   "cell_type": "code",
   "execution_count": 12,
   "id": "e98d5df2",
   "metadata": {},
   "outputs": [
    {
     "name": "stderr",
     "output_type": "stream",
     "text": [
      "2022-03-31 07:25:08.402477: I tensorflow/compiler/jit/xla_cpu_device.cc:41] Not creating XLA devices, tf_xla_enable_xla_devices not set\n",
      "2022-03-31 07:25:08.403125: I tensorflow/stream_executor/platform/default/dso_loader.cc:49] Successfully opened dynamic library libcuda.so.1\n",
      "2022-03-31 07:25:08.426688: I tensorflow/stream_executor/cuda/cuda_gpu_executor.cc:941] successful NUMA node read from SysFS had negative value (-1), but there must be at least one NUMA node, so returning NUMA node zero\n",
      "2022-03-31 07:25:08.426827: I tensorflow/core/common_runtime/gpu/gpu_device.cc:1720] Found device 0 with properties: \n",
      "pciBusID: 0000:2b:00.0 name: NVIDIA GeForce GTX 1060 3GB computeCapability: 6.1\n",
      "coreClock: 1.7085GHz coreCount: 9 deviceMemorySize: 2.95GiB deviceMemoryBandwidth: 178.99GiB/s\n",
      "2022-03-31 07:25:08.426844: I tensorflow/stream_executor/platform/default/dso_loader.cc:49] Successfully opened dynamic library libcudart.so.10.1\n",
      "2022-03-31 07:25:08.428227: I tensorflow/stream_executor/platform/default/dso_loader.cc:49] Successfully opened dynamic library libcublas.so.10\n",
      "2022-03-31 07:25:08.428255: I tensorflow/stream_executor/platform/default/dso_loader.cc:49] Successfully opened dynamic library libcublasLt.so.10\n",
      "2022-03-31 07:25:08.429588: I tensorflow/stream_executor/platform/default/dso_loader.cc:49] Successfully opened dynamic library libcufft.so.10\n",
      "2022-03-31 07:25:08.429771: I tensorflow/stream_executor/platform/default/dso_loader.cc:49] Successfully opened dynamic library libcurand.so.10\n",
      "2022-03-31 07:25:08.430974: I tensorflow/stream_executor/platform/default/dso_loader.cc:49] Successfully opened dynamic library libcusolver.so.10\n",
      "2022-03-31 07:25:08.431552: I tensorflow/stream_executor/platform/default/dso_loader.cc:49] Successfully opened dynamic library libcusparse.so.10\n",
      "2022-03-31 07:25:08.434139: I tensorflow/stream_executor/platform/default/dso_loader.cc:49] Successfully opened dynamic library libcudnn.so.7\n",
      "2022-03-31 07:25:08.434247: I tensorflow/stream_executor/cuda/cuda_gpu_executor.cc:941] successful NUMA node read from SysFS had negative value (-1), but there must be at least one NUMA node, so returning NUMA node zero\n",
      "2022-03-31 07:25:08.434405: I tensorflow/stream_executor/cuda/cuda_gpu_executor.cc:941] successful NUMA node read from SysFS had negative value (-1), but there must be at least one NUMA node, so returning NUMA node zero\n",
      "2022-03-31 07:25:08.434493: I tensorflow/core/common_runtime/gpu/gpu_device.cc:1862] Adding visible gpu devices: 0\n",
      "2022-03-31 07:25:08.434778: I tensorflow/core/platform/cpu_feature_guard.cc:142] This TensorFlow binary is optimized with oneAPI Deep Neural Network Library (oneDNN) to use the following CPU instructions in performance-critical operations:  SSE4.1 SSE4.2 AVX AVX2 FMA\n",
      "To enable them in other operations, rebuild TensorFlow with the appropriate compiler flags.\n",
      "2022-03-31 07:25:08.435865: I tensorflow/stream_executor/cuda/cuda_gpu_executor.cc:941] successful NUMA node read from SysFS had negative value (-1), but there must be at least one NUMA node, so returning NUMA node zero\n",
      "2022-03-31 07:25:08.435970: I tensorflow/core/common_runtime/gpu/gpu_device.cc:1720] Found device 0 with properties: \n",
      "pciBusID: 0000:2b:00.0 name: NVIDIA GeForce GTX 1060 3GB computeCapability: 6.1\n",
      "coreClock: 1.7085GHz coreCount: 9 deviceMemorySize: 2.95GiB deviceMemoryBandwidth: 178.99GiB/s\n",
      "2022-03-31 07:25:08.435996: I tensorflow/stream_executor/platform/default/dso_loader.cc:49] Successfully opened dynamic library libcudart.so.10.1\n",
      "2022-03-31 07:25:08.436011: I tensorflow/stream_executor/platform/default/dso_loader.cc:49] Successfully opened dynamic library libcublas.so.10\n",
      "2022-03-31 07:25:08.436021: I tensorflow/stream_executor/platform/default/dso_loader.cc:49] Successfully opened dynamic library libcublasLt.so.10\n",
      "2022-03-31 07:25:08.436030: I tensorflow/stream_executor/platform/default/dso_loader.cc:49] Successfully opened dynamic library libcufft.so.10\n",
      "2022-03-31 07:25:08.436039: I tensorflow/stream_executor/platform/default/dso_loader.cc:49] Successfully opened dynamic library libcurand.so.10\n",
      "2022-03-31 07:25:08.436047: I tensorflow/stream_executor/platform/default/dso_loader.cc:49] Successfully opened dynamic library libcusolver.so.10\n",
      "2022-03-31 07:25:08.436057: I tensorflow/stream_executor/platform/default/dso_loader.cc:49] Successfully opened dynamic library libcusparse.so.10\n",
      "2022-03-31 07:25:08.436065: I tensorflow/stream_executor/platform/default/dso_loader.cc:49] Successfully opened dynamic library libcudnn.so.7\n",
      "2022-03-31 07:25:08.436102: I tensorflow/stream_executor/cuda/cuda_gpu_executor.cc:941] successful NUMA node read from SysFS had negative value (-1), but there must be at least one NUMA node, so returning NUMA node zero\n",
      "2022-03-31 07:25:08.436217: I tensorflow/stream_executor/cuda/cuda_gpu_executor.cc:941] successful NUMA node read from SysFS had negative value (-1), but there must be at least one NUMA node, so returning NUMA node zero\n",
      "2022-03-31 07:25:08.436300: I tensorflow/core/common_runtime/gpu/gpu_device.cc:1862] Adding visible gpu devices: 0\n",
      "2022-03-31 07:25:08.436334: I tensorflow/stream_executor/platform/default/dso_loader.cc:49] Successfully opened dynamic library libcudart.so.10.1\n",
      "2022-03-31 07:25:08.744942: I tensorflow/core/common_runtime/gpu/gpu_device.cc:1261] Device interconnect StreamExecutor with strength 1 edge matrix:\n",
      "2022-03-31 07:25:08.744986: I tensorflow/core/common_runtime/gpu/gpu_device.cc:1267]      0 \n",
      "2022-03-31 07:25:08.744993: I tensorflow/core/common_runtime/gpu/gpu_device.cc:1280] 0:   N \n",
      "2022-03-31 07:25:08.745233: I tensorflow/stream_executor/cuda/cuda_gpu_executor.cc:941] successful NUMA node read from SysFS had negative value (-1), but there must be at least one NUMA node, so returning NUMA node zero\n",
      "2022-03-31 07:25:08.745394: I tensorflow/stream_executor/cuda/cuda_gpu_executor.cc:941] successful NUMA node read from SysFS had negative value (-1), but there must be at least one NUMA node, so returning NUMA node zero\n",
      "2022-03-31 07:25:08.745515: I tensorflow/stream_executor/cuda/cuda_gpu_executor.cc:941] successful NUMA node read from SysFS had negative value (-1), but there must be at least one NUMA node, so returning NUMA node zero\n",
      "2022-03-31 07:25:08.745621: I tensorflow/core/common_runtime/gpu/gpu_device.cc:1406] Created TensorFlow device (/job:localhost/replica:0/task:0/device:GPU:0 with 1804 MB memory) -> physical GPU (device: 0, name: NVIDIA GeForce GTX 1060 3GB, pci bus id: 0000:2b:00.0, compute capability: 6.1)\n",
      "2022-03-31 07:25:08.745973: I tensorflow/compiler/jit/xla_gpu_device.cc:99] Not creating XLA devices, tf_xla_enable_xla_devices not set\n"
     ]
    }
   ],
   "source": [
    "model = Sequential([\n",
    "    Rescaling(1./255, input_shape=X.shape[1:]),\n",
    "    Conv2D(16, 3, padding='same', activation='relu'),\n",
    "    MaxPooling2D(),\n",
    "    Conv2D(32, 3, padding='same', activation='relu'),\n",
    "    MaxPooling2D(),\n",
    "    Conv2D(64, 3, padding='same', activation='relu'),\n",
    "    MaxPooling2D(),\n",
    "    Flatten(),\n",
    "    Dense(128, activation='relu'),\n",
    "    Dense(len(y[0]), activation='sigmoid'),\n",
    "#     Activation('sigmoid')\n",
    "])"
   ]
  },
  {
   "cell_type": "code",
   "execution_count": 13,
   "id": "984c9736",
   "metadata": {},
   "outputs": [
    {
     "name": "stderr",
     "output_type": "stream",
     "text": [
      "2022-03-31 07:25:11.464445: W tensorflow/core/framework/cpu_allocator_impl.cc:80] Allocation of 652410000 exceeds 10% of free system memory.\n",
      "2022-03-31 07:25:11.735706: I tensorflow/compiler/mlir/mlir_graph_optimization_pass.cc:116] None of the MLIR optimization passes are enabled (registered 2)\n",
      "2022-03-31 07:25:11.736003: I tensorflow/core/platform/profile_utils/cpu_utils.cc:112] CPU Frequency: 3599990000 Hz\n"
     ]
    },
    {
     "name": "stdout",
     "output_type": "stream",
     "text": [
      "Epoch 1/10\n"
     ]
    },
    {
     "name": "stderr",
     "output_type": "stream",
     "text": [
      "2022-03-31 07:25:12.008527: I tensorflow/stream_executor/platform/default/dso_loader.cc:49] Successfully opened dynamic library libcublas.so.10\n",
      "2022-03-31 07:25:12.130357: I tensorflow/stream_executor/platform/default/dso_loader.cc:49] Successfully opened dynamic library libcudnn.so.7\n"
     ]
    },
    {
     "name": "stdout",
     "output_type": "stream",
     "text": [
      "2039/2039 [==============================] - ETA: 0s - loss: 0.0641 - accuracy: 0.1957"
     ]
    },
    {
     "name": "stderr",
     "output_type": "stream",
     "text": [
      "2022-03-31 07:25:31.603338: W tensorflow/core/framework/cpu_allocator_impl.cc:80] Allocation of 72490000 exceeds 10% of free system memory.\n"
     ]
    },
    {
     "name": "stdout",
     "output_type": "stream",
     "text": [
      "2039/2039 [==============================] - 21s 10ms/step - loss: 0.0641 - accuracy: 0.1958 - val_loss: 0.0313 - val_accuracy: 0.4947\n",
      "Epoch 2/10\n",
      "2039/2039 [==============================] - 19s 9ms/step - loss: 0.0254 - accuracy: 0.5414 - val_loss: 0.0180 - val_accuracy: 0.5896\n",
      "Epoch 3/10\n",
      "2039/2039 [==============================] - 19s 9ms/step - loss: 0.0157 - accuracy: 0.6131 - val_loss: 0.0141 - val_accuracy: 0.6295\n",
      "Epoch 4/10\n",
      "2039/2039 [==============================] - 19s 9ms/step - loss: 0.0118 - accuracy: 0.6393 - val_loss: 0.0115 - val_accuracy: 0.6616\n",
      "Epoch 5/10\n",
      "2039/2039 [==============================] - 19s 9ms/step - loss: 0.0094 - accuracy: 0.6600 - val_loss: 0.0103 - val_accuracy: 0.6783\n",
      "Epoch 6/10\n",
      "2039/2039 [==============================] - 19s 9ms/step - loss: 0.0078 - accuracy: 0.6711 - val_loss: 0.0095 - val_accuracy: 0.6611\n",
      "Epoch 7/10\n",
      "2039/2039 [==============================] - 19s 9ms/step - loss: 0.0066 - accuracy: 0.6806 - val_loss: 0.0081 - val_accuracy: 0.6740\n",
      "Epoch 8/10\n",
      "2039/2039 [==============================] - 19s 9ms/step - loss: 0.0059 - accuracy: 0.6859 - val_loss: 0.0072 - val_accuracy: 0.6772\n",
      "Epoch 9/10\n",
      "2039/2039 [==============================] - 19s 9ms/step - loss: 0.0052 - accuracy: 0.6959 - val_loss: 0.0068 - val_accuracy: 0.6804\n",
      "Epoch 10/10\n",
      "2039/2039 [==============================] - 19s 10ms/step - loss: 0.0046 - accuracy: 0.7032 - val_loss: 0.0069 - val_accuracy: 0.7006\n"
     ]
    }
   ],
   "source": [
    "model.compile(optimizer='adam',\n",
    "             loss='mse',\n",
    "             metrics=['accuracy'])\n",
    "\n",
    "history = model.fit(X, y, batch_size=32, epochs=10, validation_split=0.1)"
   ]
  },
  {
   "cell_type": "code",
   "execution_count": 14,
   "id": "788e6af2",
   "metadata": {},
   "outputs": [
    {
     "name": "stderr",
     "output_type": "stream",
     "text": [
      "2022-03-31 07:42:44.713728: W tensorflow/python/util/util.cc:348] Sets are not currently considered sequences, but this may change in the future, so consider avoiding using them.\n"
     ]
    },
    {
     "name": "stdout",
     "output_type": "stream",
     "text": [
      "INFO:tensorflow:Assets written to: model/default/assets\n"
     ]
    }
   ],
   "source": [
    "model.save(MODEL_FILE)"
   ]
  },
  {
   "cell_type": "markdown",
   "id": "357217d7",
   "metadata": {},
   "source": [
    "## Load Model from File"
   ]
  },
  {
   "cell_type": "code",
   "execution_count": 5,
   "id": "24f729e5",
   "metadata": {},
   "outputs": [
    {
     "name": "stderr",
     "output_type": "stream",
     "text": [
      "2022-03-31 20:23:35.738041: I tensorflow/compiler/jit/xla_cpu_device.cc:41] Not creating XLA devices, tf_xla_enable_xla_devices not set\n",
      "2022-03-31 20:23:35.738787: I tensorflow/stream_executor/platform/default/dso_loader.cc:49] Successfully opened dynamic library libcuda.so.1\n",
      "2022-03-31 20:23:35.777078: I tensorflow/stream_executor/cuda/cuda_gpu_executor.cc:941] successful NUMA node read from SysFS had negative value (-1), but there must be at least one NUMA node, so returning NUMA node zero\n",
      "2022-03-31 20:23:35.777235: I tensorflow/core/common_runtime/gpu/gpu_device.cc:1720] Found device 0 with properties: \n",
      "pciBusID: 0000:2b:00.0 name: NVIDIA GeForce GTX 1060 3GB computeCapability: 6.1\n",
      "coreClock: 1.7085GHz coreCount: 9 deviceMemorySize: 2.95GiB deviceMemoryBandwidth: 178.99GiB/s\n",
      "2022-03-31 20:23:35.777251: I tensorflow/stream_executor/platform/default/dso_loader.cc:49] Successfully opened dynamic library libcudart.so.10.1\n",
      "2022-03-31 20:23:35.778341: I tensorflow/stream_executor/platform/default/dso_loader.cc:49] Successfully opened dynamic library libcublas.so.10\n",
      "2022-03-31 20:23:35.778368: I tensorflow/stream_executor/platform/default/dso_loader.cc:49] Successfully opened dynamic library libcublasLt.so.10\n",
      "2022-03-31 20:23:35.779829: I tensorflow/stream_executor/platform/default/dso_loader.cc:49] Successfully opened dynamic library libcufft.so.10\n",
      "2022-03-31 20:23:35.780020: I tensorflow/stream_executor/platform/default/dso_loader.cc:49] Successfully opened dynamic library libcurand.so.10\n",
      "2022-03-31 20:23:35.781125: I tensorflow/stream_executor/platform/default/dso_loader.cc:49] Successfully opened dynamic library libcusolver.so.10\n",
      "2022-03-31 20:23:35.781795: I tensorflow/stream_executor/platform/default/dso_loader.cc:49] Successfully opened dynamic library libcusparse.so.10\n",
      "2022-03-31 20:23:35.784014: I tensorflow/stream_executor/platform/default/dso_loader.cc:49] Successfully opened dynamic library libcudnn.so.7\n",
      "2022-03-31 20:23:35.784142: I tensorflow/stream_executor/cuda/cuda_gpu_executor.cc:941] successful NUMA node read from SysFS had negative value (-1), but there must be at least one NUMA node, so returning NUMA node zero\n",
      "2022-03-31 20:23:35.784320: I tensorflow/stream_executor/cuda/cuda_gpu_executor.cc:941] successful NUMA node read from SysFS had negative value (-1), but there must be at least one NUMA node, so returning NUMA node zero\n",
      "2022-03-31 20:23:35.784413: I tensorflow/core/common_runtime/gpu/gpu_device.cc:1862] Adding visible gpu devices: 0\n",
      "2022-03-31 20:23:35.784722: I tensorflow/core/platform/cpu_feature_guard.cc:142] This TensorFlow binary is optimized with oneAPI Deep Neural Network Library (oneDNN) to use the following CPU instructions in performance-critical operations:  SSE4.1 SSE4.2 AVX AVX2 FMA\n",
      "To enable them in other operations, rebuild TensorFlow with the appropriate compiler flags.\n",
      "2022-03-31 20:23:35.785777: I tensorflow/stream_executor/cuda/cuda_gpu_executor.cc:941] successful NUMA node read from SysFS had negative value (-1), but there must be at least one NUMA node, so returning NUMA node zero\n",
      "2022-03-31 20:23:35.785881: I tensorflow/core/common_runtime/gpu/gpu_device.cc:1720] Found device 0 with properties: \n",
      "pciBusID: 0000:2b:00.0 name: NVIDIA GeForce GTX 1060 3GB computeCapability: 6.1\n",
      "coreClock: 1.7085GHz coreCount: 9 deviceMemorySize: 2.95GiB deviceMemoryBandwidth: 178.99GiB/s\n",
      "2022-03-31 20:23:35.785910: I tensorflow/stream_executor/platform/default/dso_loader.cc:49] Successfully opened dynamic library libcudart.so.10.1\n",
      "2022-03-31 20:23:35.785924: I tensorflow/stream_executor/platform/default/dso_loader.cc:49] Successfully opened dynamic library libcublas.so.10\n",
      "2022-03-31 20:23:35.785934: I tensorflow/stream_executor/platform/default/dso_loader.cc:49] Successfully opened dynamic library libcublasLt.so.10\n",
      "2022-03-31 20:23:35.785942: I tensorflow/stream_executor/platform/default/dso_loader.cc:49] Successfully opened dynamic library libcufft.so.10\n",
      "2022-03-31 20:23:35.785950: I tensorflow/stream_executor/platform/default/dso_loader.cc:49] Successfully opened dynamic library libcurand.so.10\n",
      "2022-03-31 20:23:35.785959: I tensorflow/stream_executor/platform/default/dso_loader.cc:49] Successfully opened dynamic library libcusolver.so.10\n",
      "2022-03-31 20:23:35.785967: I tensorflow/stream_executor/platform/default/dso_loader.cc:49] Successfully opened dynamic library libcusparse.so.10\n",
      "2022-03-31 20:23:35.785976: I tensorflow/stream_executor/platform/default/dso_loader.cc:49] Successfully opened dynamic library libcudnn.so.7\n",
      "2022-03-31 20:23:35.786011: I tensorflow/stream_executor/cuda/cuda_gpu_executor.cc:941] successful NUMA node read from SysFS had negative value (-1), but there must be at least one NUMA node, so returning NUMA node zero\n",
      "2022-03-31 20:23:35.786127: I tensorflow/stream_executor/cuda/cuda_gpu_executor.cc:941] successful NUMA node read from SysFS had negative value (-1), but there must be at least one NUMA node, so returning NUMA node zero\n",
      "2022-03-31 20:23:35.786210: I tensorflow/core/common_runtime/gpu/gpu_device.cc:1862] Adding visible gpu devices: 0\n",
      "2022-03-31 20:23:35.786233: I tensorflow/stream_executor/platform/default/dso_loader.cc:49] Successfully opened dynamic library libcudart.so.10.1\n",
      "2022-03-31 20:23:36.120978: I tensorflow/core/common_runtime/gpu/gpu_device.cc:1261] Device interconnect StreamExecutor with strength 1 edge matrix:\n",
      "2022-03-31 20:23:36.121013: I tensorflow/core/common_runtime/gpu/gpu_device.cc:1267]      0 \n",
      "2022-03-31 20:23:36.121018: I tensorflow/core/common_runtime/gpu/gpu_device.cc:1280] 0:   N \n",
      "2022-03-31 20:23:36.121215: I tensorflow/stream_executor/cuda/cuda_gpu_executor.cc:941] successful NUMA node read from SysFS had negative value (-1), but there must be at least one NUMA node, so returning NUMA node zero\n",
      "2022-03-31 20:23:36.121368: I tensorflow/stream_executor/cuda/cuda_gpu_executor.cc:941] successful NUMA node read from SysFS had negative value (-1), but there must be at least one NUMA node, so returning NUMA node zero\n",
      "2022-03-31 20:23:36.121490: I tensorflow/stream_executor/cuda/cuda_gpu_executor.cc:941] successful NUMA node read from SysFS had negative value (-1), but there must be at least one NUMA node, so returning NUMA node zero\n",
      "2022-03-31 20:23:36.121610: I tensorflow/core/common_runtime/gpu/gpu_device.cc:1406] Created TensorFlow device (/job:localhost/replica:0/task:0/device:GPU:0 with 1806 MB memory) -> physical GPU (device: 0, name: NVIDIA GeForce GTX 1060 3GB, pci bus id: 0000:2b:00.0, compute capability: 6.1)\n",
      "2022-03-31 20:23:36.121789: I tensorflow/compiler/jit/xla_gpu_device.cc:99] Not creating XLA devices, tf_xla_enable_xla_devices not set\n"
     ]
    },
    {
     "name": "stdout",
     "output_type": "stream",
     "text": [
      "Model: \"sequential\"\n",
      "_________________________________________________________________\n",
      "Layer (type)                 Output Shape              Param #   \n",
      "=================================================================\n",
      "rescaling (Rescaling)        (None, 100, 100, 1)       0         \n",
      "_________________________________________________________________\n",
      "conv2d (Conv2D)              (None, 100, 100, 16)      160       \n",
      "_________________________________________________________________\n",
      "max_pooling2d (MaxPooling2D) (None, 50, 50, 16)        0         \n",
      "_________________________________________________________________\n",
      "conv2d_1 (Conv2D)            (None, 50, 50, 32)        4640      \n",
      "_________________________________________________________________\n",
      "max_pooling2d_1 (MaxPooling2 (None, 25, 25, 32)        0         \n",
      "_________________________________________________________________\n",
      "conv2d_2 (Conv2D)            (None, 25, 25, 64)        18496     \n",
      "_________________________________________________________________\n",
      "max_pooling2d_2 (MaxPooling2 (None, 12, 12, 64)        0         \n",
      "_________________________________________________________________\n",
      "flatten (Flatten)            (None, 9216)              0         \n",
      "_________________________________________________________________\n",
      "dense (Dense)                (None, 128)               1179776   \n",
      "_________________________________________________________________\n",
      "dense_1 (Dense)              (None, 16)                2064      \n",
      "=================================================================\n",
      "Total params: 1,205,136\n",
      "Trainable params: 1,205,136\n",
      "Non-trainable params: 0\n",
      "_________________________________________________________________\n"
     ]
    }
   ],
   "source": [
    "loaded_model = tf.keras.models.load_model(MODEL_FILE)\n",
    "loaded_model.summary()"
   ]
  },
  {
   "cell_type": "markdown",
   "id": "23d14d16",
   "metadata": {},
   "source": [
    "## Test Model"
   ]
  },
  {
   "cell_type": "code",
   "execution_count": 16,
   "id": "ce3dc29d",
   "metadata": {},
   "outputs": [],
   "source": [
    "import os\n",
    "import random"
   ]
  },
  {
   "cell_type": "code",
   "execution_count": 21,
   "id": "4fe7fafe",
   "metadata": {},
   "outputs": [
    {
     "data": {
      "image/png": "[encoded data removed]",
      "text/plain": [
       "<Figure size 432x288 with 1 Axes>"
      ]
     },
     "metadata": {
      "needs_background": "light"
     },
     "output_type": "display_data"
    }
   ],
   "source": [
    "test_files = [os.path.join(path, name) for path, subdirs, files in os.walk(TEST_DIR) for name in files]\n",
    "test_file = random.choice(test_files)\n",
    "\n",
    "img = cv2.imread(test_file)\n",
    "plt.imshow(img, cmap=\"gray\")\n",
    "plt.show()"
   ]
  },
  {
   "cell_type": "code",
   "execution_count": 22,
   "id": "44167462",
   "metadata": {},
   "outputs": [
    {
     "data": {
      "image/png": "[encoded data removed]",
      "text/plain": [
       "<Figure size 432x288 with 1 Axes>"
      ]
     },
     "metadata": {
      "needs_background": "light"
     },
     "output_type": "display_data"
    },
    {
     "data": {
      "image/png": "[encoded data removed]",
      "text/plain": [
       "<Figure size 432x288 with 1 Axes>"
      ]
     },
     "metadata": {
      "needs_background": "light"
     },
     "output_type": "display_data"
    }
   ],
   "source": [
    "im1, im2 = process_single_img(test_file)\n",
    "plt.imshow(im1, cmap=\"gray\")\n",
    "plt.show()\n",
    "plt.imshow(im2, cmap=\"gray\")\n",
    "plt.show()"
   ]
  },
  {
   "cell_type": "code",
   "execution_count": 23,
   "id": "d17c5169",
   "metadata": {},
   "outputs": [
    {
     "data": {
      "text/plain": [
       "[0.0,\n",
       " 0.0,\n",
       " 0.0,\n",
       " 0.0,\n",
       " 0.0,\n",
       " 1.0,\n",
       " 0.01,\n",
       " 0.0,\n",
       " 0.0,\n",
       " 0.0,\n",
       " 0.0,\n",
       " 0.0,\n",
       " 0.0,\n",
       " 0.98,\n",
       " 0.0,\n",
       " 0.47]"
      ]
     },
     "execution_count": 23,
     "metadata": {},
     "output_type": "execute_result"
    }
   ],
   "source": [
    "im1 = np.array([im1]).reshape(-1, *IMG_SIZE, 1)\n",
    "pred1 = loaded_model.predict(im1)\n",
    "[round(x, 2) for x in pred1.flatten().tolist()]"
   ]
  },
  {
   "cell_type": "code",
   "execution_count": 24,
   "id": "cb1a61d1",
   "metadata": {},
   "outputs": [
    {
     "data": {
      "text/plain": [
       "[0.0,\n",
       " 0.0,\n",
       " 0.0,\n",
       " 0.0,\n",
       " 0.0,\n",
       " 1.0,\n",
       " 0.0,\n",
       " 0.0,\n",
       " 0.0,\n",
       " 0.0,\n",
       " 0.0,\n",
       " 0.0,\n",
       " 0.0,\n",
       " 1.0,\n",
       " 0.0,\n",
       " 0.48]"
      ]
     },
     "execution_count": 24,
     "metadata": {},
     "output_type": "execute_result"
    }
   ],
   "source": [
    "im2 = np.array([im2]).reshape(-1, *IMG_SIZE, 1)\n",
    "pred2 = loaded_model.predict(im2)\n",
    "[round(x, 2) for x in pred2.flatten().tolist()]"
   ]
  },
  {
   "cell_type": "markdown",
   "id": "cebf7c73",
   "metadata": {},
   "source": [
    "## Sources\n",
    "\n",
    "1. [https://www.w3resource.com/python-exercises/numpy/basic/numpy-basic-exercise-36.php](https://www.w3resource.com/python-exercises/numpy/basic/numpy-basic-exercise-36.php)\n",
    "2. [https://stackoverflow.com/questions/21164910/how-do-i-delete-a-column-that-contains-only-zeros-in-pandas](https://stackoverflow.com/questions/21164910/how-do-i-delete-a-column-that-contains-only-zeros-in-pandas)\n",
    "\n"
   ]
  },
  {
   "cell_type": "code",
   "execution_count": null,
   "id": "238a38a1",
   "metadata": {},
   "outputs": [],
   "source": []
  }
 ],
 "metadata": {
  "kernelspec": {
   "display_name": "MoShNVR",
   "language": "python",
   "name": "moshnvr"
  },
  "language_info": {
   "codemirror_mode": {
    "name": "ipython",
    "version": 3
   },
   "file_extension": ".py",
   "mimetype": "text/x-python",
   "name": "python",
   "nbconvert_exporter": "python",
   "pygments_lexer": "ipython3",
   "version": "3.9.7"
  }
 },
 "nbformat": 4,
 "nbformat_minor": 5
}
